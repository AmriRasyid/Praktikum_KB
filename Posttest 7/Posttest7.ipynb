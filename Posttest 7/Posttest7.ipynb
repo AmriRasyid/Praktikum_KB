{
 "cells": [
  {
   "cell_type": "markdown",
   "metadata": {},
   "source": [
    "#### POSTTEST 7 - Muhammad Amri Rasyid Ramadhan - 2009106047"
   ]
  },
  {
   "cell_type": "markdown",
   "metadata": {},
   "source": [
    "##### <b>Import Library<b>"
   ]
  },
  {
   "cell_type": "code",
   "execution_count": 2,
   "metadata": {},
   "outputs": [],
   "source": [
    "import tensorflow as tf"
   ]
  },
  {
   "cell_type": "markdown",
   "metadata": {},
   "source": [
    "##### <b>Buat Tensor diawal<b>\n",
    "###### Membuat Tensor dengan shape(5, 5) dengan nilai random yang disimpan ke dalam variabel bernama random_tensor."
   ]
  },
  {
   "cell_type": "code",
   "execution_count": 3,
   "metadata": {},
   "outputs": [
    {
     "data": {
      "text/plain": [
       "array([[-0.53409284,  0.19458422,  0.3569756 , -1.1729188 ,  0.52375704],\n",
       "       [ 0.0090419 ,  1.7351284 , -0.809999  , -1.1128889 ,  0.9892323 ],\n",
       "       [-0.27926478,  0.1648507 , -1.2235345 ,  0.69345677, -0.7275289 ],\n",
       "       [-1.4332589 ,  0.10565919, -0.27382073, -0.36679992, -0.37131354],\n",
       "       [-0.79356384,  1.5619559 , -0.46904412,  0.3463147 ,  1.1609366 ]],\n",
       "      dtype=float32)"
      ]
     },
     "execution_count": 3,
     "metadata": {},
     "output_type": "execute_result"
    }
   ],
   "source": [
    "random_tensor = tf.random.normal([5, 5])\n",
    "random_tensor.numpy()"
   ]
  },
  {
   "cell_type": "markdown",
   "metadata": {},
   "source": [
    "###### Membuat Tensor dengan shape(5, 5) dari sebuah list yang berisi bilangan prima yang disimpan ke dalam variabel bernama prime_tensor."
   ]
  },
  {
   "cell_type": "code",
   "execution_count": 4,
   "metadata": {},
   "outputs": [
    {
     "data": {
      "text/plain": [
       "array([[ 2.,  3.,  5.,  7., 11.],\n",
       "       [13., 17., 19., 23., 29.],\n",
       "       [31., 37., 41., 43., 47.],\n",
       "       [53., 59., 61., 67., 71.],\n",
       "       [73., 79., 83., 89., 97.]], dtype=float32)"
      ]
     },
     "execution_count": 4,
     "metadata": {},
     "output_type": "execute_result"
    }
   ],
   "source": [
    "prime_list = [[2, 3, 5, 7, 11],\n",
    "              [13, 17, 19, 23, 29],\n",
    "              [31, 37, 41, 43, 47],\n",
    "              [53, 59, 61, 67, 71],\n",
    "              [73, 79, 83, 89, 97]]\n",
    "prime_tensor = tf.convert_to_tensor(prime_list, dtype=tf.float32)\n",
    "prime_tensor.numpy()"
   ]
  },
  {
   "cell_type": "markdown",
   "metadata": {},
   "source": [
    "##### <b>Menampilkan Dimensi Tensor<b>"
   ]
  },
  {
   "cell_type": "code",
   "execution_count": 5,
   "metadata": {},
   "outputs": [
    {
     "name": "stdout",
     "output_type": "stream",
     "text": [
      "Dimensi tensor dengan nilai random\t: (5, 5)\n",
      "Dimensi tensor dengan bilangan prima\t: (5, 5)\n"
     ]
    }
   ],
   "source": [
    "print(\"Dimensi tensor dengan nilai random\\t:\", random_tensor.shape)\n",
    "print(\"Dimensi tensor dengan bilangan prima\\t:\", prime_tensor.shape)"
   ]
  },
  {
   "cell_type": "markdown",
   "metadata": {},
   "source": [
    "##### <b>Melakukan Perhitungan Aritmetika pada Tensor<b>"
   ]
  },
  {
   "cell_type": "code",
   "execution_count": 6,
   "metadata": {},
   "outputs": [
    {
     "name": "stdout",
     "output_type": "stream",
     "text": [
      "Nilai jumlah dari variabel random_tensor dengan prime_tensor:\n",
      "[[ 1.4659071  3.1945841  5.3569756  5.827081  11.523757 ]\n",
      " [13.009042  18.735128  18.19      21.887112  29.989233 ]\n",
      " [30.720736  37.164852  39.776466  43.69346   46.272472 ]\n",
      " [51.566742  59.10566   60.72618   66.6332    70.628685 ]\n",
      " [72.206436  80.56196   82.53095   89.34631   98.160934 ]]\n"
     ]
    }
   ],
   "source": [
    "random_prime_add = tf.add(random_tensor, prime_tensor)\n",
    "\n",
    "print(\"Nilai jumlah dari variabel random_tensor dengan prime_tensor:\")\n",
    "print(random_prime_add.numpy())"
   ]
  },
  {
   "cell_type": "code",
   "execution_count": 7,
   "metadata": {},
   "outputs": [
    {
     "name": "stdout",
     "output_type": "stream",
     "text": [
      "Nilai pengurangan dari variabel random_tensor dengan prime_tensor:\n",
      "[[ -2.534093   -2.8054159  -4.6430244  -8.172918  -10.476243 ]\n",
      " [-12.990958  -15.264872  -19.81      -24.112888  -28.010767 ]\n",
      " [-31.279264  -36.835148  -42.223534  -42.30654   -47.727528 ]\n",
      " [-54.433258  -58.89434   -61.27382   -67.3668    -71.371315 ]\n",
      " [-73.793564  -77.43804   -83.46905   -88.65369   -95.839066 ]]\n"
     ]
    }
   ],
   "source": [
    "random_prime_subtract = tf.subtract(random_tensor, prime_tensor)\n",
    "\n",
    "print(\"Nilai pengurangan dari variabel random_tensor dengan prime_tensor:\")\n",
    "print(random_prime_subtract.numpy())"
   ]
  },
  {
   "cell_type": "code",
   "execution_count": 8,
   "metadata": {},
   "outputs": [
    {
     "name": "stdout",
     "output_type": "stream",
     "text": [
      "Nilai perkalian dari variabel random_tensor dengan prime_tensor:\n",
      "[[-1.06818569e+00  5.83752632e-01  1.78487790e+00 -8.21043205e+00\n",
      "   5.76132727e+00]\n",
      " [ 1.17544658e-01  2.94971828e+01 -1.53899803e+01 -2.55964451e+01\n",
      "   2.86877365e+01]\n",
      " [-8.65720844e+00  6.09947586e+00 -5.01649132e+01  2.98186417e+01\n",
      "  -3.41938591e+01]\n",
      " [-7.59627228e+01  6.23389196e+00 -1.67030640e+01 -2.45755939e+01\n",
      "  -2.63632622e+01]\n",
      " [-5.79301605e+01  1.23394516e+02 -3.89306602e+01  3.08220081e+01\n",
      "   1.12610847e+02]]\n"
     ]
    }
   ],
   "source": [
    "random_prime_multiply = tf.multiply(random_tensor, prime_tensor)\n",
    "\n",
    "print(\"Nilai perkalian dari variabel random_tensor dengan prime_tensor:\")\n",
    "print(random_prime_multiply.numpy())"
   ]
  },
  {
   "cell_type": "code",
   "execution_count": 9,
   "metadata": {},
   "outputs": [
    {
     "name": "stdout",
     "output_type": "stream",
     "text": [
      "Nilai pembagian dari variabel random_tensor dengan prime_tensor:\n",
      "[[-0.26704642  0.06486141  0.07139511 -0.16755983  0.04761428]\n",
      " [ 0.00069553  0.10206638 -0.04263153 -0.04838648  0.03411146]\n",
      " [-0.00900854  0.00445542 -0.0298423   0.0161269  -0.01547934]\n",
      " [-0.02704262  0.00179083 -0.00448886 -0.00547463 -0.00522977]\n",
      " [-0.01087074  0.01977159 -0.00565113  0.00389118  0.01196842]]\n"
     ]
    }
   ],
   "source": [
    "random_prime_divide = tf.divide(random_tensor, prime_tensor)\n",
    "\n",
    "print(\"Nilai pembagian dari variabel random_tensor dengan prime_tensor:\")\n",
    "print(random_prime_divide.numpy())"
   ]
  },
  {
   "cell_type": "code",
   "execution_count": 10,
   "metadata": {},
   "outputs": [
    {
     "name": "stdout",
     "output_type": "stream",
     "text": [
      "Nilai eksponensial dari variabel random_tensor:\n",
      "[[0.5862008  1.2148058  1.429001   0.30946237 1.688359  ]\n",
      " [1.0090829  5.669656   0.44485852 0.32860827 2.6891692 ]\n",
      " [0.7563396  1.1792171  0.29418853 2.0006192  0.4831013 ]\n",
      " [0.23853031 1.111443   0.76046836 0.6929483  0.6898276 ]\n",
      " [0.45223024 4.7681384  0.6256     1.4138474  3.1929224 ]]\n",
      "\n",
      "Nilai eksponensial dari variabel prime_tensor:\n",
      "[[7.3890562e+00 2.0085537e+01 1.4841316e+02 1.0966332e+03 5.9874141e+04]\n",
      " [4.4241338e+05 2.4154952e+07 1.7848229e+08 9.7448028e+09 3.9313342e+12]\n",
      " [2.9048852e+13 1.1719143e+16 6.3984347e+17 4.7278395e+18 2.5813129e+20]\n",
      " [1.0413759e+23 4.2012105e+25 3.1042978e+26 1.2523632e+29 6.8376711e+30]\n",
      " [5.0523936e+31 2.0382811e+34 1.1128638e+36           inf           inf]]\n"
     ]
    }
   ],
   "source": [
    "random_exp = tf.exp(random_tensor)\n",
    "prime_exp = tf.exp(prime_tensor)\n",
    "\n",
    "print(\"Nilai eksponensial dari variabel random_tensor:\")\n",
    "print(random_exp.numpy())\n",
    "print()\n",
    "print(\"Nilai eksponensial dari variabel prime_tensor:\")\n",
    "print(prime_exp.numpy())"
   ]
  },
  {
   "cell_type": "code",
   "execution_count": 11,
   "metadata": {},
   "outputs": [
    {
     "name": "stdout",
     "output_type": "stream",
     "text": [
      "Nilai akar dari variabel random_tensor:\n",
      "[[       nan 0.44111702 0.59747434        nan 0.7237106 ]\n",
      " [0.09508889 1.3172427         nan        nan 0.9946016 ]\n",
      " [       nan 0.4060181         nan 0.83274055        nan]\n",
      " [       nan 0.3250526         nan        nan        nan]\n",
      " [       nan 1.2497823         nan 0.58848506 1.0774677 ]]\n",
      "\n",
      "Nilai akar dari variabel prime_tensor:\n",
      "[[1.4142135 1.7320508 2.236068  2.6457512 3.3166249]\n",
      " [3.6055512 4.1231055 4.358899  4.7958317 5.3851647]\n",
      " [5.5677643 6.0827627 6.4031243 6.5574384 6.8556547]\n",
      " [7.28011   7.6811457 7.81025   8.185352  8.426149 ]\n",
      " [8.5440035 8.888194  9.110434  9.433981  9.848858 ]]\n"
     ]
    }
   ],
   "source": [
    "random_sqrt = tf.sqrt(random_tensor)\n",
    "prime_sqrt = tf.sqrt(prime_tensor)\n",
    "\n",
    "print(\"Nilai akar dari variabel random_tensor:\")\n",
    "print(random_sqrt.numpy())\n",
    "print()\n",
    "print(\"Nilai akar dari variabel prime_tensor:\")\n",
    "print(prime_sqrt.numpy())"
   ]
  },
  {
   "cell_type": "markdown",
   "metadata": {},
   "source": [
    "##### <b>Menampilkan Nilai Maksimal dan Minimal dari Tensor<b>"
   ]
  },
  {
   "cell_type": "code",
   "execution_count": 12,
   "metadata": {},
   "outputs": [
    {
     "name": "stdout",
     "output_type": "stream",
     "text": [
      "Nilai minimum berdasarkan kolom dari variabel random_tensor:\n",
      "Kolom 1: -1.4332588911056519\t\t Lokasi indeks: 3\n",
      "Kolom 2: 0.10565918684005737\t\t Lokasi indeks: 3\n",
      "Kolom 3: -1.2235344648361206\t\t Lokasi indeks: 2\n",
      "Kolom 4: -1.1729187965393066\t\t Lokasi indeks: 0\n",
      "Kolom 5: -0.7275289297103882\t\t Lokasi indeks: 2\n",
      "\n",
      "Nilai minimum berdasarkan baris dari variabel random_tensor:\n",
      "Baris 1: -1.1729187965393066\t\t Lokasi indeks: 3\n",
      "Baris 2: -1.1128889322280884\t\t Lokasi indeks: 3\n",
      "Baris 3: -1.2235344648361206\t\t Lokasi indeks: 2\n",
      "Baris 4: -1.4332588911056519\t\t Lokasi indeks: 0\n",
      "Baris 5: -0.7935638427734375\t\t Lokasi indeks: 0\n",
      "\n"
     ]
    }
   ],
   "source": [
    "random_min_col = tf.argmin(random_tensor, axis=0)\n",
    "random_min_row = tf.argmin(random_tensor, axis=1)\n",
    "\n",
    "print(\"Nilai minimum berdasarkan kolom dari variabel random_tensor:\")\n",
    "for index, value in enumerate(random_min_col.numpy()):\n",
    "    print(f\"Kolom {index + 1}: {random_tensor[value, index]}\\t\\t Lokasi indeks: {value}\")\n",
    "print()\n",
    "\n",
    "print(\"Nilai minimum berdasarkan baris dari variabel random_tensor:\")\n",
    "for index, value in enumerate(random_min_row.numpy()):\n",
    "    print(f\"Baris {index + 1}: {random_tensor[index, value]}\\t\\t Lokasi indeks: {value}\")\n",
    "print()"
   ]
  },
  {
   "cell_type": "code",
   "execution_count": 13,
   "metadata": {},
   "outputs": [
    {
     "name": "stdout",
     "output_type": "stream",
     "text": [
      "Nilai maksimum berdasarkan kolom dari variabel random_tensor:\n",
      "Kolom 1: 0.009041897021234035\t\t Lokasi indeks: 1\n",
      "Kolom 2: 1.735128402709961\t\t Lokasi indeks: 1\n",
      "Kolom 3: 0.35697558522224426\t\t Lokasi indeks: 0\n",
      "Kolom 4: 0.693456768989563\t\t Lokasi indeks: 2\n",
      "Kolom 5: 1.1609365940093994\t\t Lokasi indeks: 4\n",
      "\n",
      "Nilai maksimum berdasarkan baris dari variabel random_tensor:\n",
      "Baris 1: 0.5237570405006409\t\t Lokasi indeks: 4\n",
      "Baris 2: 1.735128402709961\t\t Lokasi indeks: 1\n",
      "Baris 3: 0.693456768989563\t\t Lokasi indeks: 3\n",
      "Baris 4: 0.10565918684005737\t\t Lokasi indeks: 1\n",
      "Baris 5: 1.5619559288024902\t\t Lokasi indeks: 1\n",
      "\n"
     ]
    }
   ],
   "source": [
    "random_max_col = tf.argmax(random_tensor, axis=0)\n",
    "random_max_row = tf.argmax(random_tensor, axis=1)\n",
    "\n",
    "print(\"Nilai maksimum berdasarkan kolom dari variabel random_tensor:\")\n",
    "for index, value in enumerate(random_max_col.numpy()):\n",
    "    print(f\"Kolom {index + 1}: {random_tensor[value, index]}\\t\\t Lokasi indeks: {value}\")\n",
    "print()\n",
    "\n",
    "print(\"Nilai maksimum berdasarkan baris dari variabel random_tensor:\")\n",
    "for index, value in enumerate(random_max_row.numpy()):\n",
    "    print(f\"Baris {index + 1}: {random_tensor[index, value]}\\t\\t Lokasi indeks: {value}\")\n",
    "print()"
   ]
  },
  {
   "cell_type": "markdown",
   "metadata": {},
   "source": [
    "##### <b>Penggabungan Tensor<b>"
   ]
  },
  {
   "cell_type": "code",
   "execution_count": 14,
   "metadata": {},
   "outputs": [
    {
     "name": "stdout",
     "output_type": "stream",
     "text": [
      "Dimensi dari variabel random_tensor\t:  (5, 5)\n",
      "Dimensi dari variabel prime_tensor\t: (5, 5)\n",
      "\n",
      "Dimensi setelah konkatenasi kedua variabel:  (10, 5)\n",
      "Nilai hasil dari konkatenasi kedua variabel: \n",
      "[[-5.3409284e-01  1.9458422e-01  3.5697559e-01 -1.1729188e+00\n",
      "   5.2375704e-01]\n",
      " [ 9.0418970e-03  1.7351284e+00 -8.0999899e-01 -1.1128889e+00\n",
      "   9.8923230e-01]\n",
      " [-2.7926478e-01  1.6485070e-01 -1.2235345e+00  6.9345677e-01\n",
      "  -7.2752893e-01]\n",
      " [-1.4332589e+00  1.0565919e-01 -2.7382073e-01 -3.6679992e-01\n",
      "  -3.7131354e-01]\n",
      " [-7.9356384e-01  1.5619559e+00 -4.6904412e-01  3.4631470e-01\n",
      "   1.1609366e+00]\n",
      " [ 2.0000000e+00  3.0000000e+00  5.0000000e+00  7.0000000e+00\n",
      "   1.1000000e+01]\n",
      " [ 1.3000000e+01  1.7000000e+01  1.9000000e+01  2.3000000e+01\n",
      "   2.9000000e+01]\n",
      " [ 3.1000000e+01  3.7000000e+01  4.1000000e+01  4.3000000e+01\n",
      "   4.7000000e+01]\n",
      " [ 5.3000000e+01  5.9000000e+01  6.1000000e+01  6.7000000e+01\n",
      "   7.1000000e+01]\n",
      " [ 7.3000000e+01  7.9000000e+01  8.3000000e+01  8.9000000e+01\n",
      "   9.7000000e+01]]\n"
     ]
    }
   ],
   "source": [
    "concatenated_tensor = tf.concat([random_tensor, prime_tensor], axis=0)\n",
    "\n",
    "print(\"Dimensi dari variabel random_tensor\\t: \", random_tensor.shape)\n",
    "print(\"Dimensi dari variabel prime_tensor\\t:\", prime_tensor.shape)\n",
    "print()\n",
    "print(\"Dimensi setelah konkatenasi kedua variabel: \", concatenated_tensor.shape)\n",
    "print(\"Nilai hasil dari konkatenasi kedua variabel: \")\n",
    "print(concatenated_tensor.numpy())"
   ]
  },
  {
   "cell_type": "markdown",
   "metadata": {},
   "source": [
    "##### <b>Sorting Tensor<b>"
   ]
  },
  {
   "cell_type": "code",
   "execution_count": 15,
   "metadata": {},
   "outputs": [
    {
     "name": "stdout",
     "output_type": "stream",
     "text": [
      "Hasil sorting per baris secara descending pada variabel random_tensor:\n",
      "[[ 0.52375704  0.3569756   0.19458422 -0.53409284 -1.1729188 ]\n",
      " [ 1.7351284   0.9892323   0.0090419  -0.809999   -1.1128889 ]\n",
      " [ 0.69345677  0.1648507  -0.27926478 -0.7275289  -1.2235345 ]\n",
      " [ 0.10565919 -0.27382073 -0.36679992 -0.37131354 -1.4332589 ]\n",
      " [ 1.5619559   1.1609366   0.3463147  -0.46904412 -0.79356384]]\n",
      "\n",
      "Hasil sorting per baris secara descending pada variabel prime_tensor:\n",
      "[[11.  7.  5.  3.  2.]\n",
      " [29. 23. 19. 17. 13.]\n",
      " [47. 43. 41. 37. 31.]\n",
      " [71. 67. 61. 59. 53.]\n",
      " [97. 89. 83. 79. 73.]]\n"
     ]
    }
   ],
   "source": [
    "random_tensor_sorted_desc = tf.sort(random_tensor, direction=\"DESCENDING\")\n",
    "prime_tensor_sorted_desc = tf.sort(prime_tensor, direction=\"DESCENDING\")\n",
    "\n",
    "print(\"Hasil sorting per baris secara descending pada variabel random_tensor:\")\n",
    "print(random_tensor_sorted_desc.numpy())\n",
    "print()\n",
    "print(\"Hasil sorting per baris secara descending pada variabel prime_tensor:\")\n",
    "print(prime_tensor_sorted_desc.numpy())"
   ]
  },
  {
   "cell_type": "code",
   "execution_count": null,
   "metadata": {},
   "outputs": [],
   "source": []
  }
 ],
 "metadata": {
  "kernelspec": {
   "display_name": "Python 3.10.7 64-bit",
   "language": "python",
   "name": "python3"
  },
  "language_info": {
   "codemirror_mode": {
    "name": "ipython",
    "version": 3
   },
   "file_extension": ".py",
   "mimetype": "text/x-python",
   "name": "python",
   "nbconvert_exporter": "python",
   "pygments_lexer": "ipython3",
   "version": "3.10.7"
  },
  "orig_nbformat": 4,
  "vscode": {
   "interpreter": {
    "hash": "28de369d1ebe88c51a27c552b0eb62dbdf6f318905322b3f427b911f33fc49f6"
   }
  }
 },
 "nbformat": 4,
 "nbformat_minor": 2
}
